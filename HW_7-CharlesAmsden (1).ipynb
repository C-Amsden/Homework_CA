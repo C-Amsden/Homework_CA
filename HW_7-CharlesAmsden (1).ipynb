{
 "cells": [
  {
   "cell_type": "code",
   "execution_count": 15,
   "metadata": {
    "collapsed": true
   },
   "outputs": [],
   "source": [
    "import numpy as np"
   ]
  },
  {
   "cell_type": "code",
   "execution_count": 18,
   "metadata": {
    "collapsed": true
   },
   "outputs": [],
   "source": [
    "#part a question 1\n",
    "def quadA(a,b,c):\n",
    "    x_1 = ((-b) + np.sqrt(b**2 - 4*a*c))/(2*a)\n",
    "    x_2 = ((-b) - np.sqrt(b**2 - 4*a*c))/(2*a)\n",
    "    return x_1,x_2\n"
   ]
  },
  {
   "cell_type": "code",
   "execution_count": 19,
   "metadata": {},
   "outputs": [
    {
     "data": {
      "text/plain": [
       "(-9.999894245993346e-07, -999999.99999899999)"
      ]
     },
     "execution_count": 19,
     "metadata": {},
     "output_type": "execute_result"
    }
   ],
   "source": [
    "quadA(.001,1000,.001)"
   ]
  },
  {
   "cell_type": "code",
   "execution_count": 3,
   "metadata": {
    "collapsed": true
   },
   "outputs": [],
   "source": [
    "#part b question 1\n",
    "def quadB(a,b,c):\n",
    "    x_1 = (2*c)/((-b) + (b**2 - 4*a*c)**(1/2))\n",
    "    x_2 = (2*c)/((-b) - (b**2 - 4*a*c)**(1/2))\n",
    "    return x_1,x_2"
   ]
  },
  {
   "cell_type": "code",
   "execution_count": 35,
   "metadata": {},
   "outputs": [
    {
     "data": {
      "text/plain": [
       "(1.000000000001e-06, 1000010.5755125057)"
      ]
     },
     "execution_count": 35,
     "metadata": {},
     "output_type": "execute_result"
    }
   ],
   "source": [
    "quadB(.001,-1000,.001)"
   ]
  },
  {
   "cell_type": "markdown",
   "metadata": {},
   "source": [
    "For part B, I see that my answer has been rounded up and flipped from the x_1 in QuadA to the x_2 QuadB, This is because b^2 - 4*a*c is rather close to b by itself. That means that part of it is getting cut off because it is subtracting nearly equal but incredably large numbers."
   ]
  },
  {
   "cell_type": "code",
   "execution_count": 41,
   "metadata": {},
   "outputs": [
    {
     "data": {
      "text/plain": [
       "(-1.000000000001e-06, -999999.99999899999)"
      ]
     },
     "execution_count": 41,
     "metadata": {},
     "output_type": "execute_result"
    }
   ],
   "source": [
    "# the first number in QuadA is incorrect, and the first number is also incorrect in QuadB\n",
    "#part c question 1\n",
    "def quadS(a,b,c):\n",
    "    if b > 0:\n",
    "        if abs(b) > abs(4*a*c):\n",
    "            x_1 = (2*c)/((-b) - (b**2 - 4*a*c)**(1/2))\n",
    "            x_2 = ((-b) - np.sqrt(b**2 - 4*a*c))/(2*a)\n",
    "        else:\n",
    "            x_2 = (2*c)/((-b) + np.sqrt(b**2 - 4*a*c))\n",
    "            x_1 = ((-b) + np.sqrt(b**2 - 4*a*c))/(2*a)\n",
    "    elif b == 0:\n",
    "        x_1 = ((-b) + np.sqrt(b**2 - 4*a*c))/(2*a)\n",
    "        x_2 = ((-b) - np.sqrt(b**2 - 4*a*c))/(2*a)\n",
    "    else:\n",
    "        if abs(b) > abs(4*a*c):\n",
    "            x_1 = (2*c)/((-b) + (b**2 - 4*a*c)**(1/2))\n",
    "            x_2 = ((-b) + np.sqrt(b**2 - 4*a*c))/(2*a)\n",
    "        else:\n",
    "            x_2 = (2*c)/((-b) - np.sqrt(b**2 - 4*a*c))\n",
    "            x_1 = ((-b) - np.sqrt(b**2 - 4*a*c))/(2*a)\n",
    "\n",
    "    return(x_1, x_2)\n",
    "            \n",
    "quadS(.001,1000,.001)"
   ]
  },
  {
   "cell_type": "code",
   "execution_count": 122,
   "metadata": {},
   "outputs": [
    {
     "name": "stdout",
     "output_type": "stream",
     "text": [
      "999.999999998 999.999996\n"
     ]
    }
   ],
   "source": [
    "a = np.sqrt(1000**2 - (4*(.001)*(.001)))\n",
    "\n",
    "b = 1000 - (4*(.001)*(.001))\n",
    "\n",
    "print(a,b)"
   ]
  }
 ],
 "metadata": {
  "kernelspec": {
   "display_name": "Python 3",
   "language": "python",
   "name": "python3"
  },
  "language_info": {
   "codemirror_mode": {
    "name": "ipython",
    "version": 3
   },
   "file_extension": ".py",
   "mimetype": "text/x-python",
   "name": "python",
   "nbconvert_exporter": "python",
   "pygments_lexer": "ipython3",
   "version": "3.6.3"
  }
 },
 "nbformat": 4,
 "nbformat_minor": 4
}
