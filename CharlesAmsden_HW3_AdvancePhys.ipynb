{
 "cells": [
  {
   "cell_type": "code",
   "execution_count": 182,
   "metadata": {},
   "outputs": [
    {
     "name": "stdout",
     "output_type": "stream",
     "text": [
      "('congratulations you have succeeded in decrypting the string', 13)\n"
     ]
    }
   ],
   "source": [
    "def encrypt(string,key):\n",
    "    Solve = []\n",
    "    k = key\n",
    "    for x in range(len(string)):\n",
    "        Solve.append(ord(string[x]))\n",
    "    for y in range(len(string)):\n",
    "        if chr(ord(string[y])) == ' ':\n",
    "            Solve[y] = ' '\n",
    "        elif chr(ord(string[y])) == ',':\n",
    "            Solve[y] = ','\n",
    "        elif chr(ord(string[y])) == \"'\":\n",
    "            Solve[y] = \"'\"\n",
    "        elif ord(string[y]) + k >= 123:\n",
    "            u = 96 + (ord(string[y]) + k)-122\n",
    "            Solve[y] = chr(u)\n",
    "        else:\n",
    "            Solve[y] = chr(ord(string[y]) + k)\n",
    "            \n",
    "    solved_string = ''.join(Solve)\n",
    "    \n",
    "    return solved_string, key \n",
    "\n",
    "r = 'pbatenghyngvbaf lbh unir fhpprrqrq va qrpelcgvat gur fgevat' \n",
    "print(encrypt(r, 13))"
   ]
  },
  {
   "cell_type": "code",
   "execution_count": 184,
   "metadata": {},
   "outputs": [
    {
     "name": "stdout",
     "output_type": "stream",
     "text": [
      "('gwc uivioml bw nqvl bpm zqopb apqnb', 0)\n",
      "('hxd vjwjpnm cx orwm cqn arpqc bqroc', 1)\n",
      "('iye wkxkqon dy psxn dro bsqrd crspd', 2)\n",
      "('jzf xlylrpo ez qtyo esp ctrse dstqe', 3)\n",
      "('kag ymzmsqp fa ruzp ftq dustf eturf', 4)\n",
      "('lbh znantrq gb svaq gur evtug fuvsg', 5)\n",
      "('mci aobousr hc twbr hvs fwuvh gvwth', 6)\n",
      "('ndj bpcpvts id uxcs iwt gxvwi hwxui', 7)\n",
      "('oek cqdqwut je vydt jxu hywxj ixyvj', 8)\n",
      "('pfl drerxvu kf wzeu kyv izxyk jyzwk', 9)\n",
      "('qgm esfsywv lg xafv lzw jayzl kzaxl', 10)\n",
      "('rhn ftgtzxw mh ybgw max kbzam labym', 11)\n",
      "('sio guhuayx ni zchx nby lcabn mbczn', 12)\n",
      "('tjp hvivbzy oj adiy ocz mdbco ncdao', 13)\n",
      "('ukq iwjwcaz pk bejz pda necdp odebp', 14)\n",
      "('vlr jxkxdba ql cfka qeb ofdeq pefcq', 15)\n",
      "('wms kylyecb rm dglb rfc pgefr qfgdr', 16)\n",
      "('xnt lzmzfdc sn ehmc sgd qhfgs rghes', 17)\n",
      "('you managed to find the right shift', 18)\n",
      "('zpv nbobhfe up gjoe uif sjhiu tijgu', 19)\n",
      "('aqw ocpcigf vq hkpf vjg tkijv ujkhv', 20)\n",
      "('brx pdqdjhg wr ilqg wkh uljkw vkliw', 21)\n",
      "('csy qerekih xs jmrh xli vmklx wlmjx', 22)\n",
      "('dtz rfsflji yt knsi ymj wnlmy xmnky', 23)\n",
      "('eua sgtgmkj zu lotj znk xomnz ynolz', 24)\n",
      "('fvb thuhnlk av mpuk aol ypnoa zopma', 25)\n",
      "('gwc uivioml bw nqvl bpm zqopb apqnb', 26)\n"
     ]
    }
   ],
   "source": [
    "y = 'gwc uivioml bw nqvl bpm zqopb apqnb'\n",
    "for c in range(27):\n",
    "    t = encrypt(y,c)\n",
    "    print(t)"
   ]
  },
  {
   "cell_type": "code",
   "execution_count": null,
   "metadata": {},
   "outputs": [],
   "source": []
  },
  {
   "cell_type": "code",
   "execution_count": null,
   "metadata": {},
   "outputs": [],
   "source": []
  },
  {
   "cell_type": "code",
   "execution_count": null,
   "metadata": {
    "collapsed": true
   },
   "outputs": [],
   "source": [
    "#S_M_0 = 'pmttw, qn gwc izm zmilqvo bpqa bpib umiva gwc emzm kczqwca mvwcop bw bmab ug xzwoziu' #8 #18\n",
    "#S_M_1 = 'n mfi fqty tk kzs rfpnsl ymnx tsj, ns ymj kwzxywfynsl uwtlwfrd bfd' #5 #21\n",
    "#S_M_2 = \"qebfo fpk'q obxiiv xkvqefkd pmbzfxi fk qebpb jbppxdbp qebv xob obxiiv grpq qbpq zlab\" #23 #3\n",
    "#S_M_3 = 'tcf jofwcig gvwthg xigh hc gss wt w fsozzm uch wh fwuvh' #14 #12\n",
    "#S_M_4 = 'mfe tq jzf oto opntop ez opnzop espx htes esp wtde zq yfxmpcd ld jzfc rftop' #11 #15\n",
    "#S_M_5 = 'k lwuv yqwnf nkmg vq ykuj aqw c nqxgna fca' #2 #24"
   ]
  }
 ],
 "metadata": {
  "kernelspec": {
   "display_name": "Python 3",
   "language": "python",
   "name": "python3"
  },
  "language_info": {
   "codemirror_mode": {
    "name": "ipython",
    "version": 3
   },
   "file_extension": ".py",
   "mimetype": "text/x-python",
   "name": "python",
   "nbconvert_exporter": "python",
   "pygments_lexer": "ipython3",
   "version": "3.6.3"
  }
 },
 "nbformat": 4,
 "nbformat_minor": 2
}
